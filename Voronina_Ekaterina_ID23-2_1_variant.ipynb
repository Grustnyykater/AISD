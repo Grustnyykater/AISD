{
 "cells": [
  {
   "cell_type": "markdown",
   "metadata": {},
   "source": [
    "### Контрольная работа № 1.\n",
    "### Вариант 1.\n",
    "#### Студент ___Воронина ЕД_______________________ группа ______ИД23-2________________"
   ]
  },
  {
   "cell_type": "markdown",
   "metadata": {},
   "source": [
    "1. Создайте класс Length (Длина), имеющий свойства\n",
    "\n",
    "• value (значение),\n",
    "\n",
    "• unit (единица измерения).\n",
    "\n",
    "При изменении единицы измерения значение должно соответственно меняться. Например, при переходе от сантиметров к метрам значение должно уменьшаться в 100 раз. Допустимые значения свойства unit: ‘см’, ‘м’, ‘км’. Организуйте эту проверку. Продемонстрируйте работу с классом."
   ]
  },
  {
   "cell_type": "code",
   "execution_count": 1,
   "metadata": {},
   "outputs": [
    {
     "name": "stdout",
     "output_type": "stream",
     "text": [
      "100 см\n",
      "1.0 м\n",
      "2.5 км\n",
      "2500.0 м\n"
     ]
    }
   ],
   "source": [
    "# Решение 1.\n",
    "class Length:\n",
    "    def __init__(self, value, unit):\n",
    "        self.value = value\n",
    "        self.unit = unit\n",
    "\n",
    "    def meters(self):\n",
    "        if self.unit == 'см':\n",
    "            self.value /= 100\n",
    "            self.unit = 'м'\n",
    "        elif self.unit == 'км':\n",
    "            self.value *= 1000\n",
    "            self.unit = 'м'\n",
    "    \n",
    "    def centimeters(self):\n",
    "        if self.unit == 'м':\n",
    "            self.value *= 100\n",
    "            self.unit = 'см'\n",
    "        elif self.unit == 'км':\n",
    "            self.value *= 100000\n",
    "            self.unit = 'см'\n",
    "\n",
    "    def kilometers(self):\n",
    "        if self.unit == 'м':\n",
    "            self.value /= 1000\n",
    "            self.unit = 'км'\n",
    "        elif self.unit == 'см':\n",
    "            self.value /= 100000\n",
    "            self.unit = 'км'\n",
    "\n",
    "    def __str__(self):\n",
    "        return f'{self.value} {self.unit}'\n",
    "\n",
    "# Пример использования\n",
    "length1 = Length(100, 'см')\n",
    "print(length1)  # Вывод: 100 см\n",
    "\n",
    "length1.meters()\n",
    "print(length1)  # Вывод: 1.0 м\n",
    "\n",
    "length2 = Length(2.5, 'км')\n",
    "print(length2)  # Вывод: 2.5 км\n",
    "\n",
    "length2.meters()\n",
    "print(length2)  # Вывод: 2500.0 м"
   ]
  },
  {
   "cell_type": "markdown",
   "metadata": {},
   "source": [
    "2. Создайте класс Ведомость, имеющий\n",
    "атрибут класса:\n",
    "\n",
    "• список_дисциплин (значением является список с названиями дисциплин);\n",
    "\n",
    "свойства:\n",
    "\n",
    "• дисциплина (при задании значения проверять наличие дисциплины в атрибуте список_дисциплин),\n",
    "\n",
    "• группа;\n",
    "\n",
    "методы:\n",
    "\n",
    "• put – добавляет в ведомость информацию об оценке студента (фамилия, оценка – параметры метода). Для хранения данных внутри класса используйте словарь, в котором ключом является фамилия студента. Возможные оценки – «отлично», «хорошо», «удовл.», «неудовл.», «н/я»;\n",
    "\n",
    "• get – возвращает оценку, полученную студентом (фамилия студента – параметр метода);\n",
    "\n",
    "• change – изменяет оценку, полученную студентом (фамилия студента и новая оценка – параметры метода);\n",
    "\n",
    "• del – удаляет информацию о студенте из ведомости (фамилия студента – параметр метода);\n",
    "\n",
    "• result – возвращает кортеж из 5 чисел (количество каждого вида оценок в ведомости);\n",
    "\n",
    "• __init__ – конструктор;\n",
    "\n",
    "• __str__ – возвращает строку, содержащую заголовки (название экзамена, группа) и результаты экзамена в виде таблицы;\n",
    "\n",
    "• count – возвращает количество студентов в ведомости;\n",
    "\n",
    "• names – возвращает список фамилий, имеющихся в ведомости.\n",
    "\n",
    "Продемонстрируйте работу с классом. \n"
   ]
  },
  {
   "cell_type": "code",
   "execution_count": 9,
   "metadata": {},
   "outputs": [
    {
     "name": "stdout",
     "output_type": "stream",
     "text": [
      "Дисциплина: Математика\n",
      "Группа: A1\n",
      "\n",
      "Студент\tОценка\n",
      "Чаки\t\tотлично\n",
      "Патиматра\t\tхорошо\n",
      "Соловей-разбойник\t\tудовл.\n",
      "\n",
      "Результат: (1, 1, 1, 0, 0)\n",
      "Число студентов: 3\n",
      "Имена студентов: ['Чаки', 'Патиматра', 'Соловей-разбойник']\n",
      "Дисциплина: Математика\n",
      "Группа: A1\n",
      "\n",
      "Студент\tОценка\n",
      "Чаки\t\tнеудовл.\n",
      "Соловей-разбойник\t\tудовл.\n",
      "\n",
      "Результат: (0, 0, 1, 1, 0)\n",
      "Число студентов: 2\n",
      "Имена студентов: ['Чаки', 'Соловей-разбойник']\n"
     ]
    }
   ],
   "source": [
    "# Решение 2.\n",
    "class RecordBook:\n",
    "    list_of_disciplines = ['Математика', 'Физика', 'Химия', 'Биология']\n",
    "\n",
    "    def __init__(self, discipline, group):\n",
    "        if discipline in RecordBook.list_of_disciplines:\n",
    "            self.discipline = discipline\n",
    "        else:\n",
    "            raise ValueError(\"Дисциплина не найдена\")\n",
    "        self.group = group\n",
    "        self.grades = {}\n",
    "\n",
    "    def put(self, student_name, grade):\n",
    "        possible_grades = ['отлично', 'хорошо', 'удовл.', 'неудовл.', 'н/я']\n",
    "        if grade not in possible_grades:\n",
    "            raise ValueError(\"Класс не найден\")\n",
    "        self.grades[student_name] = grade\n",
    "\n",
    "    def get(self, student_name):\n",
    "        return self.grades.get(student_name, \"Класс не найден\")\n",
    "\n",
    "    def change(self, student_name, new_grade):\n",
    "        possible_grades = ['отлично', 'хорошо', 'удовл.', 'неудовл.', 'н/я']\n",
    "        if new_grade not in possible_grades:\n",
    "            raise ValueError(\"Класс не найден\")\n",
    "        if student_name in self.grades:\n",
    "            self.grades[student_name] = new_grade\n",
    "        else:\n",
    "            print(f\"Студент {student_name} не найден в ведомости\")\n",
    "\n",
    "    def delete(self, student_name):\n",
    "        if student_name in self.grades:\n",
    "            del self.grades[student_name]\n",
    "        else:\n",
    "            print(f\"Студент {student_name} не найден в ведомости\")\n",
    "\n",
    "    def result(self):\n",
    "        grades_count = {grade: 0 for grade in ['отлично', 'хорошо', 'удовл.', 'неудовл.', 'н/я']}\n",
    "        for grade in self.grades.values():\n",
    "            grades_count[grade] += 1\n",
    "        return tuple(grades_count.values())\n",
    "\n",
    "    def __str__(self):\n",
    "        result_str = f\"Дисциплина: {self.discipline}\\nГруппа: {self.group}\\n\\n\"\n",
    "        result_str += \"Студент\\tОценка\\n\"\n",
    "        for student, grade in self.grades.items():\n",
    "            result_str += f\"{student}\\t\\t{grade}\\n\"\n",
    "        return result_str\n",
    "\n",
    "    def count(self):\n",
    "        return len(self.grades)\n",
    "\n",
    "    def names(self):\n",
    "        return list(self.grades.keys())\n",
    "\n",
    "# Пример использования\n",
    "record_book = RecordBook('Математика', 'A1')\n",
    "record_book.put('Чаки', 'отлично')\n",
    "record_book.put('Патиматра', 'хорошо')\n",
    "record_book.put('Соловей-разбойник', 'удовл.')\n",
    "\n",
    "print(record_book)\n",
    "print(\"Результат:\", record_book.result())\n",
    "print(\"Число студентов:\", record_book.count())\n",
    "print(\"Имена студентов:\", record_book.names())\n",
    "\n",
    "record_book.change('Чаки', 'неудовл.')\n",
    "record_book.delete('Патиматра')\n",
    "\n",
    "print(record_book)\n",
    "print(\"Результат:\", record_book.result())\n",
    "print(\"Число студентов:\", record_book.count())\n",
    "print(\"Имена студентов:\", record_book.names())"
   ]
  },
  {
   "cell_type": "markdown",
   "metadata": {},
   "source": [
    "3. Создайте класс Заказ(Order), у которого есть свойства код_товара(code), цена(price), количество(count) и методы __init__ и __str__.\n",
    "\n",
    "Создайте 2 класса-потомка: Опт(Opt) и Розница(Retail).\n",
    "В этих классах создайте методы __init__, __str__.и сумма_заказа(summa), позволяющий узнать стоимость заказа.\n",
    "Для опта стоимость единицы товара составляет 95% от цены, а при покупке более 500 штук – 90% цены.\n",
    "В розницу стоимость единицы товара составляет 100% цены. Стоимость заказа равна произведению цены на количество. \n",
    "\n",
    "Продемонстрируйте работу с классами, создав необходимые объекты и обратившись к их свойствам и методам\n"
   ]
  },
  {
   "cell_type": "code",
   "execution_count": null,
   "metadata": {},
   "outputs": [],
   "source": [
    "# Решение 3.\n",
    "class Order:\n",
    "    def __init__(self, code, price, count):\n",
    "        self.code = code\n",
    "        self.price = price\n",
    "        self.count = count\n",
    "\n",
    "    def __str__(self):\n",
    "        return f\"\\nКод: {self.code}\\nЦена: {self.price}\\nКоличество: {self.count}\"\n",
    "\n",
    "class Opt(Order):\n",
    "    def __init__(self, code, price, count):\n",
    "        super().__init__(code, price, count)\n",
    "\n",
    "    def summa(self):\n",
    "        if self.count > 500:\n",
    "            return 0.9 * self.price * self.count\n",
    "        else:\n",
    "            return 0.95 * self.price * self.count\n",
    "\n",
    "class Retail(Order):\n",
    "    def __init__(self, code, price, count):\n",
    "        super().__init__(code, price, count)\n",
    "\n",
    "    def summa(self):\n",
    "        return self.price * self.count\n",
    "\n",
    "# Пример использования\n",
    "opt_order = Opt(\"A001\", 100, 600)\n",
    "retail_order = Retail(\"B002\", 150, 100)\n",
    "\n",
    "print(\"Оптовый заказ:\")\n",
    "print(opt_order)\n",
    "print(\"Итоговая цена:\", opt_order.summa())\n",
    "\n",
    "print(\"\\nРозничный заказ:\")\n",
    "print(retail_order)\n",
    "print(\"Итоговая цена:\", retail_order.summa())"
   ]
  },
  {
   "cell_type": "markdown",
   "metadata": {},
   "source": [
    "4. Написать функцию my_func_1(lst), которая переворачивает список вложенных списков с произвольным уровнем вложенности.\n",
    "Любой элемент, не являющийся списком, не должен быть изменен.\n",
    "\n",
    "Примеры, демонстрирующие ожидаемое поведение функции:\n",
    "\n",
    "assert my_func_1(42) == 42\n",
    "\n",
    "assert my_func_1([]) == []\n",
    "\n",
    "assert my_func_1([1, 2]) == [2, 1]\n",
    "\n",
    "assert my_func_1((1, 2)) == (1, 2)\n",
    "\n",
    "assert my_func_1([[1, 2], [3, [4, 5]], 6]) == [6, [[5, 4], 3], [2, 1]]\n",
    "\n",
    "assert my_func_1(['123', '456', '789', {10: [11, 12], 13: 14}, (15, 16)]) == [(15, 16), {10: [11, 12], 13: 14}, '789', '456', '123']\n",
    "\n",
    "assert my_func_1([[[[[1, 2]]]]]) == [[[[[2, 1]]]]]"
   ]
  },
  {
   "cell_type": "code",
   "execution_count": 36,
   "metadata": {},
   "outputs": [
    {
     "name": "stdout",
     "output_type": "stream",
     "text": [
      "[(15, 16), {10: [11, 12], 13: 14}, '789', '456', '123']\n"
     ]
    }
   ],
   "source": [
    "# Решение 4.\n",
    "def my_func_1(lst):\n",
    "    if not isinstance(lst, list):\n",
    "        return lst\n",
    "    return [my_func_1(item) for item in reversed(lst)]\n",
    "\n",
    "# Пример использования\n",
    "k = (['123', '456', '789', {10: [11, 12], 13: 14}, (15, 16)])\n",
    "result = my_func_1(k)\n",
    "print(result)\n"
   ]
  },
  {
   "cell_type": "markdown",
   "metadata": {},
   "source": [
    "5.При помощи механизма map/filter/reduce возвести в квадрат числа от 1 до 100, и рассчитать их сумму, не включая в сумму числа, кратные 9. Написать реализацию в одну строку."
   ]
  },
  {
   "cell_type": "code",
   "execution_count": 38,
   "metadata": {},
   "outputs": [
    {
     "name": "stdout",
     "output_type": "stream",
     "text": [
      "225589\n"
     ]
    }
   ],
   "source": [
    "# Решение 5.\n",
    "from functools import reduce\n",
    "\n",
    "result = reduce(lambda x, y: x + y, filter(lambda x: x % 9 != 0, map(lambda x: x**2, range(1, 101))))\n",
    "print(result)\n"
   ]
  },
  {
   "cell_type": "markdown",
   "metadata": {},
   "source": [
    "6.Написать декоратор с параметром my_decorator(n). Декоратор превращает функцию, возвращающую поддерживающий итерации объект (далее \"последовательность\"), в функцию-генератор. Если декорируемая функция возвращает что-то другое, а не последовательность, то декоратор должен вернуть этот результат вызова функции без изменений.\n",
    "\n",
    "Проверку объекта можно организовать при помощи условия import collections if isinstance(item, collections.Iterable)\n",
    "\n",
    "Параметром декоратора может быть целое положительное число n, тогда получившаяся функция-декоратор должна генерировать по одному значению из последовательности, повторенной n раз. Также параметр может принимать строковое значение 'inf', тогда функция-декоратор генерирует по одному значению из последовательности, повторенной бесконечное число раз (зацикливает генерирование результата).\n",
    "\n",
    "Подсказка: сначала реализовать случай со значением аргумента 'inf', а затем модифицировать для целочисленного значения аргумента."
   ]
  },
  {
   "cell_type": "code",
   "execution_count": null,
   "metadata": {},
   "outputs": [],
   "source": [
    "# Решение 6.\n"
   ]
  }
 ],
 "metadata": {
  "kernelspec": {
   "display_name": "Python 3 (ipykernel)",
   "language": "python",
   "name": "python3"
  },
  "language_info": {
   "codemirror_mode": {
    "name": "ipython",
    "version": 3
   },
   "file_extension": ".py",
   "mimetype": "text/x-python",
   "name": "python",
   "nbconvert_exporter": "python",
   "pygments_lexer": "ipython3",
   "version": "3.10.9"
  }
 },
 "nbformat": 4,
 "nbformat_minor": 4
}
