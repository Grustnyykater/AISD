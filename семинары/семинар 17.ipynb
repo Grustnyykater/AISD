{
 "cells": [
  {
   "cell_type": "code",
   "execution_count": 36,
   "id": "f651c501",
   "metadata": {},
   "outputs": [
    {
     "name": "stdout",
     "output_type": "stream",
     "text": [
      "False\n"
     ]
    }
   ],
   "source": [
    "#а) Используя лямбда-функцию, найти, начинается ли данная строка с заданного символа.\n",
    "check_start = lambda s, char: s.startswith(char)\n",
    "result = check_start(\"wolf\", \"w\")\n",
    "print(result)  # Вернет True\n"
   ]
  },
  {
   "cell_type": "code",
   "execution_count": 37,
   "id": "790b211b",
   "metadata": {},
   "outputs": [
    {
     "name": "stdout",
     "output_type": "stream",
     "text": [
      "15\n"
     ]
    }
   ],
   "source": [
    "# б) Суммируйте длину имён заданного списка после удаления имён, начинающихся со строчной буквы. Используйте лямбда-функцию. \n",
    "names = ['fox', 'cat', 'Sasha', 'Kolya', 'Katty', 'arinka']\n",
    "filtered_names = list(filter(lambda name: not name[0].islower(), names))\n",
    "total_length = sum(map(len, filtered_names))\n",
    "print(total_length)  # Вернет 15\n"
   ]
  },
  {
   "cell_type": "code",
   "execution_count": 38,
   "id": "9e5089e5",
   "metadata": {},
   "outputs": [
    {
     "name": "stdout",
     "output_type": "stream",
     "text": [
      "['сашка', 'кошка', 'спать']\n"
     ]
    }
   ],
   "source": [
    "# в) Удалите определённые слова из заданного списка с помощью лямбда- функции.\n",
    "words = ['сашка', 'суп', 'дом', 'кошка', 'спать']\n",
    "words_to_remove = ['суп', 'дом']\n",
    "filtered_words = list(filter(lambda word: word not in words_to_remove, words))\n",
    "print(filtered_words)"
   ]
  },
  {
   "cell_type": "code",
   "execution_count": 30,
   "id": "e51fc07b",
   "metadata": {},
   "outputs": [
    {
     "name": "stdout",
     "output_type": "stream",
     "text": [
      "[{'Science': 88, 'Language': 77}, {'Science': 89, 'Language': 78}, {'Science': 62, 'Language': 84}, {'Science': 95, 'Language': 80}]\n"
     ]
    }
   ],
   "source": [
    "# а) Разделите заданный словарь списков на список словарей, используя функцию map(). \n",
    "from functools import reduce\n",
    "from operator import mul\n",
    "\n",
    "data = {'Science': [88, 89, 62, 95], 'Language': [77, 78, 84, 80]}\n",
    "\n",
    "def split_dict_list(data):\n",
    "    keys = list(data.keys())\n",
    "    values = list(data.values())\n",
    "    return list(map(lambda *x: dict(zip(keys, x)), *values))\n",
    "\n",
    "result = split_dict_list(data)\n",
    "print(result)"
   ]
  },
  {
   "cell_type": "code",
   "execution_count": 26,
   "id": "edb09cfa",
   "metadata": {},
   "outputs": [
    {
     "name": "stdout",
     "output_type": "stream",
     "text": [
      "Исходный список чисел: [95, 30, 66, 73, 82, 14, 35, 27, 56, 96, 61, 9, 45, 19, 81, 38, 17, 4, 53, 18]\n",
      "Числа кратные 5 по убыванию: [95, 45, 35, 30]\n",
      "4488750\n"
     ]
    }
   ],
   "source": [
    "# б)Сгенерировать список целых чисел. С помощью функции filter() выбрать из списка все числа кратные 5 и упорядочить их по убыванию.\n",
    "# Используя функцию reduce(), найти их произведение.\n",
    "import random\n",
    "\n",
    "# Генерируем список целых чисел\n",
    "numbers = [random.randint(1, 100) for _ in range(20)]\n",
    "print(\"Исходный список чисел:\", numbers)\n",
    "\n",
    "# Фильтруем числа кратные 5 и упорядочиваем их по убыванию\n",
    "filtered_numbers = sorted(filter(lambda x: x % 5 == 0, numbers), reverse=True)\n",
    "print(\"Числа кратные 5 по убыванию:\", filtered_numbers)\n",
    "\n",
    "import operator\n",
    "from functools import reduce\n",
    "\n",
    "filtered_numbers = list(filter(lambda x: x % 5 == 0, numbers))\n",
    "sorted_numbers = sorted(filtered_numbers, reverse=True)\n",
    "product = reduce(operator.mul, sorted_numbers)\n",
    "print(product)"
   ]
  },
  {
   "cell_type": "code",
   "execution_count": 32,
   "id": "6520ab82",
   "metadata": {},
   "outputs": [
    {
     "name": "stdout",
     "output_type": "stream",
     "text": [
      "5\n"
     ]
    }
   ],
   "source": [
    "# а) Создайте декоратор, который будет кэшировать результаты выполнения функции и очищать кэш при превышении заданного размера.\n",
    "from functools import lru_cache\n",
    "\n",
    "def cache_with_limit(maxsize):\n",
    "    def decorator(func):\n",
    "        cached_func = lru_cache(maxsize)(func)\n",
    "        \n",
    "        def wrapper(*args, **kwargs):\n",
    "            return cached_func(*args, **kwargs)\n",
    "        \n",
    "        wrapper.cache_clear = cached_func.cache_clear\n",
    "        return wrapper\n",
    "    \n",
    "    return decorator\n",
    "# пример\n",
    "@cache_with_limit(3)\n",
    "def fibonacci(n):\n",
    "    if n <= 1:\n",
    "        return n\n",
    "    return fibonacci(n-1) + fibonacci(n-2)\n",
    "\n",
    "print(fibonacci(5))  # вызов функции\n",
    "fibonacci.cache_clear()  # очистка кэша\n"
   ]
  },
  {
   "cell_type": "code",
   "execution_count": 33,
   "id": "269750c0",
   "metadata": {},
   "outputs": [
    {
     "name": "stdout",
     "output_type": "stream",
     "text": [
      "-2\n"
     ]
    }
   ],
   "source": [
    "# б) Создайте декоратор, который будет принимать список аргументов и передавать его в функцию в определенном порядке.\n",
    "def arguments_order(args_order):\n",
    "    def decorator(func):\n",
    "        def wrapper(*args, **kwargs):\n",
    "            ordered_args = [args[i] for i in args_order]\n",
    "            return func(*ordered_args, **kwargs)\n",
    "        \n",
    "        return wrapper\n",
    "    \n",
    "    return decorator\n",
    "# пример\n",
    "@arguments_order([1, 0])\n",
    "def subtract(a, b):\n",
    "    return a - b\n",
    "\n",
    "print(subtract(5, 3))  # вызов функции с передачей аргументов в определенном порядке"
   ]
  }
 ],
 "metadata": {
  "kernelspec": {
   "display_name": "Python 3 (ipykernel)",
   "language": "python",
   "name": "python3"
  },
  "language_info": {
   "codemirror_mode": {
    "name": "ipython",
    "version": 3
   },
   "file_extension": ".py",
   "mimetype": "text/x-python",
   "name": "python",
   "nbconvert_exporter": "python",
   "pygments_lexer": "ipython3",
   "version": "3.10.9"
  }
 },
 "nbformat": 4,
 "nbformat_minor": 5
}
